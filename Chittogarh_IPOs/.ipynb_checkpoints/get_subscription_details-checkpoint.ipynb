{
 "cells": [
  {
   "cell_type": "code",
   "execution_count": 221,
   "metadata": {},
   "outputs": [],
   "source": [
    "import requests as reqs\n",
    "import pandas as pd\n",
    "from datetime import date"
   ]
  },
  {
   "cell_type": "code",
   "execution_count": 222,
   "metadata": {},
   "outputs": [],
   "source": [
    "all_ipos_page_response = reqs.get('https://www.chittorgarh.com/report/ipo-in-india-list-main-board-sme/82/')"
   ]
  },
  {
   "cell_type": "code",
   "execution_count": 223,
   "metadata": {},
   "outputs": [],
   "source": [
    "from bs4 import BeautifulSoup"
   ]
  },
  {
   "cell_type": "code",
   "execution_count": 224,
   "metadata": {},
   "outputs": [],
   "source": [
    "all_pages_soup = BeautifulSoup(all_ipos_page_response.content, 'html.parser')"
   ]
  },
  {
   "cell_type": "code",
   "execution_count": 225,
   "metadata": {},
   "outputs": [],
   "source": [
    "parent_div_table = all_pages_soup.find('div', {'id':'report_data'})"
   ]
  },
  {
   "cell_type": "code",
   "execution_count": 226,
   "metadata": {},
   "outputs": [],
   "source": [
    "table_tag = parent_div_table.find('table')"
   ]
  },
  {
   "cell_type": "code",
   "execution_count": 227,
   "metadata": {},
   "outputs": [],
   "source": [
    "thead_tag = table_tag.find('thead')"
   ]
  },
  {
   "cell_type": "code",
   "execution_count": 228,
   "metadata": {},
   "outputs": [],
   "source": [
    "th_tags = thead_tag.findAll('th')"
   ]
  },
  {
   "cell_type": "code",
   "execution_count": 229,
   "metadata": {},
   "outputs": [
    {
     "data": {
      "text/plain": [
       "['Issuer Company',\n",
       " 'Exchange',\n",
       " 'Open',\n",
       " 'Close',\n",
       " 'Lot Size',\n",
       " 'Issue Price  (Rs)',\n",
       " 'Issue Size (Rs Cr)']"
      ]
     },
     "execution_count": 229,
     "metadata": {},
     "output_type": "execute_result"
    }
   ],
   "source": [
    "column_names = list()\n",
    "for th in th_tags:\n",
    "    column_names.append(th.text.strip())\n",
    "column_names"
   ]
  },
  {
   "cell_type": "code",
   "execution_count": 230,
   "metadata": {},
   "outputs": [],
   "source": [
    "tbody_tag = table_tag.find('tbody')"
   ]
  },
  {
   "cell_type": "code",
   "execution_count": 231,
   "metadata": {},
   "outputs": [],
   "source": [
    "tr_tags = tbody_tag.findAll('tr')"
   ]
  },
  {
   "cell_type": "code",
   "execution_count": 232,
   "metadata": {},
   "outputs": [],
   "source": [
    "ipo_page_links = list()\n",
    "issuer_company_names = list()\n",
    "exchange_names = list()\n",
    "open_dates = list()\n",
    "close_dates = list()\n",
    "lot_sizes = list()\n",
    "issue_prices = list()\n",
    "issue_sizes = list()\n",
    "\n",
    "for tr in tr_tags:\n",
    "    link = tr.find('a').get('href')\n",
    "    ipo_page_links.append(link.strip())\n",
    "    tds = tr.findAll('td')\n",
    "    issuer_company_names.append(tds[0].text.strip())\n",
    "    exchange_names.append(tds[1].text.strip())\n",
    "    open_dates.append(tds[2].text.strip())\n",
    "    close_dates.append(tds[3].text.strip())\n",
    "    lot_sizes.append(tds[4].text.strip())\n",
    "    issue_prices.append(tds[5].text.strip())\n",
    "    issue_sizes.append(tds[6].text.strip())"
   ]
  },
  {
   "cell_type": "code",
   "execution_count": 233,
   "metadata": {},
   "outputs": [],
   "source": [
    "dict_for_df = dict()\n",
    "\n",
    "for index, values in enumerate([issuer_company_names,exchange_names,open_dates,close_dates,lot_sizes,issue_prices,issue_sizes,ipo_page_links]):\n",
    "    dict_for_df[index] = values"
   ]
  },
  {
   "cell_type": "code",
   "execution_count": 234,
   "metadata": {},
   "outputs": [],
   "source": [
    "column_names.append('URL')\n",
    "df = pd.DataFrame(dict_for_df)\n",
    "df.columns = column_names"
   ]
  },
  {
   "cell_type": "code",
   "execution_count": 235,
   "metadata": {},
   "outputs": [
    {
     "data": {
      "text/html": [
       "<div>\n",
       "<style scoped>\n",
       "    .dataframe tbody tr th:only-of-type {\n",
       "        vertical-align: middle;\n",
       "    }\n",
       "\n",
       "    .dataframe tbody tr th {\n",
       "        vertical-align: top;\n",
       "    }\n",
       "\n",
       "    .dataframe thead th {\n",
       "        text-align: right;\n",
       "    }\n",
       "</style>\n",
       "<table border=\"1\" class=\"dataframe\">\n",
       "  <thead>\n",
       "    <tr style=\"text-align: right;\">\n",
       "      <th></th>\n",
       "      <th>Issuer Company</th>\n",
       "      <th>Exchange</th>\n",
       "      <th>Open</th>\n",
       "      <th>Close</th>\n",
       "      <th>Lot Size</th>\n",
       "      <th>Issue Price  (Rs)</th>\n",
       "      <th>Issue Size (Rs Cr)</th>\n",
       "      <th>URL</th>\n",
       "    </tr>\n",
       "  </thead>\n",
       "  <tbody>\n",
       "    <tr>\n",
       "      <th>0</th>\n",
       "      <td>India Pesticides Limited IPO</td>\n",
       "      <td>BSE, NSE</td>\n",
       "      <td>Jun 23, 2021</td>\n",
       "      <td>Jun 25, 2021</td>\n",
       "      <td></td>\n",
       "      <td></td>\n",
       "      <td>800</td>\n",
       "      <td>https://www.chittorgarh.com/ipo/india-pesticid...</td>\n",
       "    </tr>\n",
       "    <tr>\n",
       "      <th>1</th>\n",
       "      <td>Times Green Energy (India) Ltd IPO</td>\n",
       "      <td>BSE SME</td>\n",
       "      <td>Jun 16, 2021</td>\n",
       "      <td>Jun 22, 2021</td>\n",
       "      <td>2000</td>\n",
       "      <td>61</td>\n",
       "      <td>4.05</td>\n",
       "      <td>https://www.chittorgarh.com/ipo/times-green-en...</td>\n",
       "    </tr>\n",
       "    <tr>\n",
       "      <th>2</th>\n",
       "      <td>Adeshwar Meditex Limited IPO</td>\n",
       "      <td>BSE SME</td>\n",
       "      <td>Jun 15, 2021</td>\n",
       "      <td>Jun 18, 2021</td>\n",
       "      <td>6000</td>\n",
       "      <td>25</td>\n",
       "      <td>9.75</td>\n",
       "      <td>https://www.chittorgarh.com/ipo/adeshwar-medit...</td>\n",
       "    </tr>\n",
       "    <tr>\n",
       "      <th>3</th>\n",
       "      <td>Krishna Institute of Medical Sciences Limited IPO</td>\n",
       "      <td>BSE, NSE</td>\n",
       "      <td>Jun 16, 2021</td>\n",
       "      <td>Jun 18, 2021</td>\n",
       "      <td>18</td>\n",
       "      <td>815 to 825</td>\n",
       "      <td>2143.74</td>\n",
       "      <td>https://www.chittorgarh.com/ipo/kims-ipo/1115/</td>\n",
       "    </tr>\n",
       "    <tr>\n",
       "      <th>4</th>\n",
       "      <td>Dodla Dairy Limited IPO</td>\n",
       "      <td>BSE, NSE</td>\n",
       "      <td>Jun 16, 2021</td>\n",
       "      <td>Jun 18, 2021</td>\n",
       "      <td>35</td>\n",
       "      <td>421 to 428</td>\n",
       "      <td>520.18</td>\n",
       "      <td>https://www.chittorgarh.com/ipo/dodla-dairy-ip...</td>\n",
       "    </tr>\n",
       "  </tbody>\n",
       "</table>\n",
       "</div>"
      ],
      "text/plain": [
       "                                      Issuer Company  Exchange          Open  \\\n",
       "0                       India Pesticides Limited IPO  BSE, NSE  Jun 23, 2021   \n",
       "1                 Times Green Energy (India) Ltd IPO   BSE SME  Jun 16, 2021   \n",
       "2                       Adeshwar Meditex Limited IPO   BSE SME  Jun 15, 2021   \n",
       "3  Krishna Institute of Medical Sciences Limited IPO  BSE, NSE  Jun 16, 2021   \n",
       "4                            Dodla Dairy Limited IPO  BSE, NSE  Jun 16, 2021   \n",
       "\n",
       "          Close Lot Size Issue Price  (Rs) Issue Size (Rs Cr)  \\\n",
       "0  Jun 25, 2021                                           800   \n",
       "1  Jun 22, 2021     2000                61               4.05   \n",
       "2  Jun 18, 2021     6000                25               9.75   \n",
       "3  Jun 18, 2021       18        815 to 825            2143.74   \n",
       "4  Jun 18, 2021       35        421 to 428             520.18   \n",
       "\n",
       "                                                 URL  \n",
       "0  https://www.chittorgarh.com/ipo/india-pesticid...  \n",
       "1  https://www.chittorgarh.com/ipo/times-green-en...  \n",
       "2  https://www.chittorgarh.com/ipo/adeshwar-medit...  \n",
       "3     https://www.chittorgarh.com/ipo/kims-ipo/1115/  \n",
       "4  https://www.chittorgarh.com/ipo/dodla-dairy-ip...  "
      ]
     },
     "execution_count": 235,
     "metadata": {},
     "output_type": "execute_result"
    }
   ],
   "source": [
    "df.head()"
   ]
  },
  {
   "cell_type": "code",
   "execution_count": 236,
   "metadata": {},
   "outputs": [],
   "source": [
    "df = df[~((df['Close']=='') | (df['Close'].isna()))]\n",
    "df['Close'] = pd.to_datetime(df['Close'])"
   ]
  },
  {
   "cell_type": "code",
   "execution_count": 237,
   "metadata": {},
   "outputs": [],
   "source": [
    "df = df[~((df['Open']=='') | (df['Open'].isna()))]\n",
    "df['Open'] = pd.to_datetime(df['Open'])"
   ]
  },
  {
   "cell_type": "code",
   "execution_count": 238,
   "metadata": {},
   "outputs": [
    {
     "data": {
      "text/html": [
       "<div>\n",
       "<style scoped>\n",
       "    .dataframe tbody tr th:only-of-type {\n",
       "        vertical-align: middle;\n",
       "    }\n",
       "\n",
       "    .dataframe tbody tr th {\n",
       "        vertical-align: top;\n",
       "    }\n",
       "\n",
       "    .dataframe thead th {\n",
       "        text-align: right;\n",
       "    }\n",
       "</style>\n",
       "<table border=\"1\" class=\"dataframe\">\n",
       "  <thead>\n",
       "    <tr style=\"text-align: right;\">\n",
       "      <th></th>\n",
       "      <th>Issuer Company</th>\n",
       "      <th>Exchange</th>\n",
       "      <th>Open</th>\n",
       "      <th>Close</th>\n",
       "      <th>Lot Size</th>\n",
       "      <th>Issue Price  (Rs)</th>\n",
       "      <th>Issue Size (Rs Cr)</th>\n",
       "      <th>URL</th>\n",
       "    </tr>\n",
       "  </thead>\n",
       "  <tbody>\n",
       "    <tr>\n",
       "      <th>0</th>\n",
       "      <td>India Pesticides Limited IPO</td>\n",
       "      <td>BSE, NSE</td>\n",
       "      <td>2021-06-23</td>\n",
       "      <td>2021-06-25</td>\n",
       "      <td></td>\n",
       "      <td></td>\n",
       "      <td>800</td>\n",
       "      <td>https://www.chittorgarh.com/ipo/india-pesticid...</td>\n",
       "    </tr>\n",
       "    <tr>\n",
       "      <th>1</th>\n",
       "      <td>Times Green Energy (India) Ltd IPO</td>\n",
       "      <td>BSE SME</td>\n",
       "      <td>2021-06-16</td>\n",
       "      <td>2021-06-22</td>\n",
       "      <td>2000</td>\n",
       "      <td>61</td>\n",
       "      <td>4.05</td>\n",
       "      <td>https://www.chittorgarh.com/ipo/times-green-en...</td>\n",
       "    </tr>\n",
       "    <tr>\n",
       "      <th>2</th>\n",
       "      <td>Adeshwar Meditex Limited IPO</td>\n",
       "      <td>BSE SME</td>\n",
       "      <td>2021-06-15</td>\n",
       "      <td>2021-06-18</td>\n",
       "      <td>6000</td>\n",
       "      <td>25</td>\n",
       "      <td>9.75</td>\n",
       "      <td>https://www.chittorgarh.com/ipo/adeshwar-medit...</td>\n",
       "    </tr>\n",
       "    <tr>\n",
       "      <th>3</th>\n",
       "      <td>Krishna Institute of Medical Sciences Limited IPO</td>\n",
       "      <td>BSE, NSE</td>\n",
       "      <td>2021-06-16</td>\n",
       "      <td>2021-06-18</td>\n",
       "      <td>18</td>\n",
       "      <td>815 to 825</td>\n",
       "      <td>2143.74</td>\n",
       "      <td>https://www.chittorgarh.com/ipo/kims-ipo/1115/</td>\n",
       "    </tr>\n",
       "    <tr>\n",
       "      <th>4</th>\n",
       "      <td>Dodla Dairy Limited IPO</td>\n",
       "      <td>BSE, NSE</td>\n",
       "      <td>2021-06-16</td>\n",
       "      <td>2021-06-18</td>\n",
       "      <td>35</td>\n",
       "      <td>421 to 428</td>\n",
       "      <td>520.18</td>\n",
       "      <td>https://www.chittorgarh.com/ipo/dodla-dairy-ip...</td>\n",
       "    </tr>\n",
       "  </tbody>\n",
       "</table>\n",
       "</div>"
      ],
      "text/plain": [
       "                                      Issuer Company  Exchange       Open  \\\n",
       "0                       India Pesticides Limited IPO  BSE, NSE 2021-06-23   \n",
       "1                 Times Green Energy (India) Ltd IPO   BSE SME 2021-06-16   \n",
       "2                       Adeshwar Meditex Limited IPO   BSE SME 2021-06-15   \n",
       "3  Krishna Institute of Medical Sciences Limited IPO  BSE, NSE 2021-06-16   \n",
       "4                            Dodla Dairy Limited IPO  BSE, NSE 2021-06-16   \n",
       "\n",
       "       Close Lot Size Issue Price  (Rs) Issue Size (Rs Cr)  \\\n",
       "0 2021-06-25                                           800   \n",
       "1 2021-06-22     2000                61               4.05   \n",
       "2 2021-06-18     6000                25               9.75   \n",
       "3 2021-06-18       18        815 to 825            2143.74   \n",
       "4 2021-06-18       35        421 to 428             520.18   \n",
       "\n",
       "                                                 URL  \n",
       "0  https://www.chittorgarh.com/ipo/india-pesticid...  \n",
       "1  https://www.chittorgarh.com/ipo/times-green-en...  \n",
       "2  https://www.chittorgarh.com/ipo/adeshwar-medit...  \n",
       "3     https://www.chittorgarh.com/ipo/kims-ipo/1115/  \n",
       "4  https://www.chittorgarh.com/ipo/dodla-dairy-ip...  "
      ]
     },
     "execution_count": 238,
     "metadata": {},
     "output_type": "execute_result"
    }
   ],
   "source": [
    "df.head()"
   ]
  },
  {
   "cell_type": "code",
   "execution_count": 239,
   "metadata": {},
   "outputs": [],
   "source": [
    "today = date.today()\n",
    "df = df[(df['Close'].dt.day>=today.day) & (df['Close'].dt.month==today.month) & (df['Close'].dt.year==today.year)]"
   ]
  },
  {
   "cell_type": "code",
   "execution_count": 240,
   "metadata": {},
   "outputs": [],
   "source": [
    "df = df[(df['Open'].dt.day<=today.day) & (df['Open'].dt.month==today.month) & (df['Open'].dt.year==today.year)]"
   ]
  },
  {
   "cell_type": "code",
   "execution_count": 241,
   "metadata": {},
   "outputs": [
    {
     "data": {
      "text/html": [
       "<div>\n",
       "<style scoped>\n",
       "    .dataframe tbody tr th:only-of-type {\n",
       "        vertical-align: middle;\n",
       "    }\n",
       "\n",
       "    .dataframe tbody tr th {\n",
       "        vertical-align: top;\n",
       "    }\n",
       "\n",
       "    .dataframe thead th {\n",
       "        text-align: right;\n",
       "    }\n",
       "</style>\n",
       "<table border=\"1\" class=\"dataframe\">\n",
       "  <thead>\n",
       "    <tr style=\"text-align: right;\">\n",
       "      <th></th>\n",
       "      <th>Issuer Company</th>\n",
       "      <th>Exchange</th>\n",
       "      <th>Open</th>\n",
       "      <th>Close</th>\n",
       "      <th>Lot Size</th>\n",
       "      <th>Issue Price  (Rs)</th>\n",
       "      <th>Issue Size (Rs Cr)</th>\n",
       "      <th>URL</th>\n",
       "    </tr>\n",
       "  </thead>\n",
       "  <tbody>\n",
       "    <tr>\n",
       "      <th>1</th>\n",
       "      <td>Times Green Energy (India) Ltd IPO</td>\n",
       "      <td>BSE SME</td>\n",
       "      <td>2021-06-16</td>\n",
       "      <td>2021-06-22</td>\n",
       "      <td>2000</td>\n",
       "      <td>61</td>\n",
       "      <td>4.05</td>\n",
       "      <td>https://www.chittorgarh.com/ipo/times-green-en...</td>\n",
       "    </tr>\n",
       "    <tr>\n",
       "      <th>2</th>\n",
       "      <td>Adeshwar Meditex Limited IPO</td>\n",
       "      <td>BSE SME</td>\n",
       "      <td>2021-06-15</td>\n",
       "      <td>2021-06-18</td>\n",
       "      <td>6000</td>\n",
       "      <td>25</td>\n",
       "      <td>9.75</td>\n",
       "      <td>https://www.chittorgarh.com/ipo/adeshwar-medit...</td>\n",
       "    </tr>\n",
       "    <tr>\n",
       "      <th>3</th>\n",
       "      <td>Krishna Institute of Medical Sciences Limited IPO</td>\n",
       "      <td>BSE, NSE</td>\n",
       "      <td>2021-06-16</td>\n",
       "      <td>2021-06-18</td>\n",
       "      <td>18</td>\n",
       "      <td>815 to 825</td>\n",
       "      <td>2143.74</td>\n",
       "      <td>https://www.chittorgarh.com/ipo/kims-ipo/1115/</td>\n",
       "    </tr>\n",
       "    <tr>\n",
       "      <th>4</th>\n",
       "      <td>Dodla Dairy Limited IPO</td>\n",
       "      <td>BSE, NSE</td>\n",
       "      <td>2021-06-16</td>\n",
       "      <td>2021-06-18</td>\n",
       "      <td>35</td>\n",
       "      <td>421 to 428</td>\n",
       "      <td>520.18</td>\n",
       "      <td>https://www.chittorgarh.com/ipo/dodla-dairy-ip...</td>\n",
       "    </tr>\n",
       "    <tr>\n",
       "      <th>5</th>\n",
       "      <td>Navoday Enterprises Limited IPO</td>\n",
       "      <td>BSE SME</td>\n",
       "      <td>2021-06-14</td>\n",
       "      <td>2021-06-17</td>\n",
       "      <td>6000</td>\n",
       "      <td>20</td>\n",
       "      <td>4.61</td>\n",
       "      <td>https://www.chittorgarh.com/ipo/navoday-enterp...</td>\n",
       "    </tr>\n",
       "  </tbody>\n",
       "</table>\n",
       "</div>"
      ],
      "text/plain": [
       "                                      Issuer Company  Exchange       Open  \\\n",
       "1                 Times Green Energy (India) Ltd IPO   BSE SME 2021-06-16   \n",
       "2                       Adeshwar Meditex Limited IPO   BSE SME 2021-06-15   \n",
       "3  Krishna Institute of Medical Sciences Limited IPO  BSE, NSE 2021-06-16   \n",
       "4                            Dodla Dairy Limited IPO  BSE, NSE 2021-06-16   \n",
       "5                    Navoday Enterprises Limited IPO   BSE SME 2021-06-14   \n",
       "\n",
       "       Close Lot Size Issue Price  (Rs) Issue Size (Rs Cr)  \\\n",
       "1 2021-06-22     2000                61               4.05   \n",
       "2 2021-06-18     6000                25               9.75   \n",
       "3 2021-06-18       18        815 to 825            2143.74   \n",
       "4 2021-06-18       35        421 to 428             520.18   \n",
       "5 2021-06-17     6000                20               4.61   \n",
       "\n",
       "                                                 URL  \n",
       "1  https://www.chittorgarh.com/ipo/times-green-en...  \n",
       "2  https://www.chittorgarh.com/ipo/adeshwar-medit...  \n",
       "3     https://www.chittorgarh.com/ipo/kims-ipo/1115/  \n",
       "4  https://www.chittorgarh.com/ipo/dodla-dairy-ip...  \n",
       "5  https://www.chittorgarh.com/ipo/navoday-enterp...  "
      ]
     },
     "execution_count": 241,
     "metadata": {},
     "output_type": "execute_result"
    }
   ],
   "source": [
    "df.head()"
   ]
  },
  {
   "cell_type": "code",
   "execution_count": 242,
   "metadata": {},
   "outputs": [],
   "source": [
    "df['ipo_name'] = df['URL'].apply(lambda x: x.split('/')[4].strip())\n",
    "df['ipo_id'] = df['URL'].apply(lambda x: x.split('/')[5].strip())"
   ]
  },
  {
   "cell_type": "code",
   "execution_count": 243,
   "metadata": {},
   "outputs": [
    {
     "data": {
      "text/html": [
       "<div>\n",
       "<style scoped>\n",
       "    .dataframe tbody tr th:only-of-type {\n",
       "        vertical-align: middle;\n",
       "    }\n",
       "\n",
       "    .dataframe tbody tr th {\n",
       "        vertical-align: top;\n",
       "    }\n",
       "\n",
       "    .dataframe thead th {\n",
       "        text-align: right;\n",
       "    }\n",
       "</style>\n",
       "<table border=\"1\" class=\"dataframe\">\n",
       "  <thead>\n",
       "    <tr style=\"text-align: right;\">\n",
       "      <th></th>\n",
       "      <th>ipo_name</th>\n",
       "      <th>ipo_id</th>\n",
       "    </tr>\n",
       "  </thead>\n",
       "  <tbody>\n",
       "    <tr>\n",
       "      <th>1</th>\n",
       "      <td>times-green-energy-ipo</td>\n",
       "      <td>1117</td>\n",
       "    </tr>\n",
       "    <tr>\n",
       "      <th>2</th>\n",
       "      <td>adeshwar-meditex-ipo</td>\n",
       "      <td>1116</td>\n",
       "    </tr>\n",
       "  </tbody>\n",
       "</table>\n",
       "</div>"
      ],
      "text/plain": [
       "                 ipo_name ipo_id\n",
       "1  times-green-energy-ipo   1117\n",
       "2    adeshwar-meditex-ipo   1116"
      ]
     },
     "execution_count": 243,
     "metadata": {},
     "output_type": "execute_result"
    }
   ],
   "source": [
    "df[['ipo_name','ipo_id']][:2]"
   ]
  },
  {
   "cell_type": "code",
   "execution_count": 244,
   "metadata": {},
   "outputs": [],
   "source": [
    "def format_subscription_url(row):\n",
    "    ipo_name = row['ipo_name'].replace('-','%20')\n",
    "    ipo_id = row['ipo_id']\n",
    "    url = 'https://www.chittorgarh.com/ajax/ajax.asp?AjaxCall=GetSubscriptionPageIPOBiddingStatus&AjaxVal={ipo_id}&CompanyShortName={ipo_name}'.format(ipo_name=ipo_name,ipo_id=ipo_id)\n",
    "    return url"
   ]
  },
  {
   "cell_type": "code",
   "execution_count": 248,
   "metadata": {},
   "outputs": [],
   "source": [
    "df['subscription_data_url'] = df.apply(lambda row: format_subscription_url(row), axis=1)"
   ]
  },
  {
   "cell_type": "code",
   "execution_count": 249,
   "metadata": {},
   "outputs": [
    {
     "data": {
      "text/html": [
       "<div>\n",
       "<style scoped>\n",
       "    .dataframe tbody tr th:only-of-type {\n",
       "        vertical-align: middle;\n",
       "    }\n",
       "\n",
       "    .dataframe tbody tr th {\n",
       "        vertical-align: top;\n",
       "    }\n",
       "\n",
       "    .dataframe thead th {\n",
       "        text-align: right;\n",
       "    }\n",
       "</style>\n",
       "<table border=\"1\" class=\"dataframe\">\n",
       "  <thead>\n",
       "    <tr style=\"text-align: right;\">\n",
       "      <th></th>\n",
       "      <th>Issuer Company</th>\n",
       "      <th>Exchange</th>\n",
       "      <th>Open</th>\n",
       "      <th>Close</th>\n",
       "      <th>Lot Size</th>\n",
       "      <th>Issue Price  (Rs)</th>\n",
       "      <th>Issue Size (Rs Cr)</th>\n",
       "      <th>URL</th>\n",
       "      <th>ipo_name</th>\n",
       "      <th>ipo_id</th>\n",
       "      <th>subscription_data_url</th>\n",
       "    </tr>\n",
       "  </thead>\n",
       "  <tbody>\n",
       "    <tr>\n",
       "      <th>1</th>\n",
       "      <td>Times Green Energy (India) Ltd IPO</td>\n",
       "      <td>BSE SME</td>\n",
       "      <td>2021-06-16</td>\n",
       "      <td>2021-06-22</td>\n",
       "      <td>2000</td>\n",
       "      <td>61</td>\n",
       "      <td>4.05</td>\n",
       "      <td>https://www.chittorgarh.com/ipo/times-green-en...</td>\n",
       "      <td>times-green-energy-ipo</td>\n",
       "      <td>1117</td>\n",
       "      <td>https://www.chittorgarh.com/ajax/ajax.asp?Ajax...</td>\n",
       "    </tr>\n",
       "    <tr>\n",
       "      <th>2</th>\n",
       "      <td>Adeshwar Meditex Limited IPO</td>\n",
       "      <td>BSE SME</td>\n",
       "      <td>2021-06-15</td>\n",
       "      <td>2021-06-18</td>\n",
       "      <td>6000</td>\n",
       "      <td>25</td>\n",
       "      <td>9.75</td>\n",
       "      <td>https://www.chittorgarh.com/ipo/adeshwar-medit...</td>\n",
       "      <td>adeshwar-meditex-ipo</td>\n",
       "      <td>1116</td>\n",
       "      <td>https://www.chittorgarh.com/ajax/ajax.asp?Ajax...</td>\n",
       "    </tr>\n",
       "    <tr>\n",
       "      <th>3</th>\n",
       "      <td>Krishna Institute of Medical Sciences Limited IPO</td>\n",
       "      <td>BSE, NSE</td>\n",
       "      <td>2021-06-16</td>\n",
       "      <td>2021-06-18</td>\n",
       "      <td>18</td>\n",
       "      <td>815 to 825</td>\n",
       "      <td>2143.74</td>\n",
       "      <td>https://www.chittorgarh.com/ipo/kims-ipo/1115/</td>\n",
       "      <td>kims-ipo</td>\n",
       "      <td>1115</td>\n",
       "      <td>https://www.chittorgarh.com/ajax/ajax.asp?Ajax...</td>\n",
       "    </tr>\n",
       "    <tr>\n",
       "      <th>4</th>\n",
       "      <td>Dodla Dairy Limited IPO</td>\n",
       "      <td>BSE, NSE</td>\n",
       "      <td>2021-06-16</td>\n",
       "      <td>2021-06-18</td>\n",
       "      <td>35</td>\n",
       "      <td>421 to 428</td>\n",
       "      <td>520.18</td>\n",
       "      <td>https://www.chittorgarh.com/ipo/dodla-dairy-ip...</td>\n",
       "      <td>dodla-dairy-ipo</td>\n",
       "      <td>1114</td>\n",
       "      <td>https://www.chittorgarh.com/ajax/ajax.asp?Ajax...</td>\n",
       "    </tr>\n",
       "    <tr>\n",
       "      <th>5</th>\n",
       "      <td>Navoday Enterprises Limited IPO</td>\n",
       "      <td>BSE SME</td>\n",
       "      <td>2021-06-14</td>\n",
       "      <td>2021-06-17</td>\n",
       "      <td>6000</td>\n",
       "      <td>20</td>\n",
       "      <td>4.61</td>\n",
       "      <td>https://www.chittorgarh.com/ipo/navoday-enterp...</td>\n",
       "      <td>navoday-enterprises-ipo</td>\n",
       "      <td>1113</td>\n",
       "      <td>https://www.chittorgarh.com/ajax/ajax.asp?Ajax...</td>\n",
       "    </tr>\n",
       "  </tbody>\n",
       "</table>\n",
       "</div>"
      ],
      "text/plain": [
       "                                      Issuer Company  Exchange       Open  \\\n",
       "1                 Times Green Energy (India) Ltd IPO   BSE SME 2021-06-16   \n",
       "2                       Adeshwar Meditex Limited IPO   BSE SME 2021-06-15   \n",
       "3  Krishna Institute of Medical Sciences Limited IPO  BSE, NSE 2021-06-16   \n",
       "4                            Dodla Dairy Limited IPO  BSE, NSE 2021-06-16   \n",
       "5                    Navoday Enterprises Limited IPO   BSE SME 2021-06-14   \n",
       "\n",
       "       Close Lot Size Issue Price  (Rs) Issue Size (Rs Cr)  \\\n",
       "1 2021-06-22     2000                61               4.05   \n",
       "2 2021-06-18     6000                25               9.75   \n",
       "3 2021-06-18       18        815 to 825            2143.74   \n",
       "4 2021-06-18       35        421 to 428             520.18   \n",
       "5 2021-06-17     6000                20               4.61   \n",
       "\n",
       "                                                 URL                 ipo_name  \\\n",
       "1  https://www.chittorgarh.com/ipo/times-green-en...   times-green-energy-ipo   \n",
       "2  https://www.chittorgarh.com/ipo/adeshwar-medit...     adeshwar-meditex-ipo   \n",
       "3     https://www.chittorgarh.com/ipo/kims-ipo/1115/                 kims-ipo   \n",
       "4  https://www.chittorgarh.com/ipo/dodla-dairy-ip...          dodla-dairy-ipo   \n",
       "5  https://www.chittorgarh.com/ipo/navoday-enterp...  navoday-enterprises-ipo   \n",
       "\n",
       "  ipo_id                              subscription_data_url  \n",
       "1   1117  https://www.chittorgarh.com/ajax/ajax.asp?Ajax...  \n",
       "2   1116  https://www.chittorgarh.com/ajax/ajax.asp?Ajax...  \n",
       "3   1115  https://www.chittorgarh.com/ajax/ajax.asp?Ajax...  \n",
       "4   1114  https://www.chittorgarh.com/ajax/ajax.asp?Ajax...  \n",
       "5   1113  https://www.chittorgarh.com/ajax/ajax.asp?Ajax...  "
      ]
     },
     "execution_count": 249,
     "metadata": {},
     "output_type": "execute_result"
    }
   ],
   "source": [
    "df.head()"
   ]
  },
  {
   "cell_type": "code",
   "execution_count": 250,
   "metadata": {},
   "outputs": [
    {
     "data": {
      "text/plain": [
       "['https://www.chittorgarh.com/ajax/ajax.asp?AjaxCall=GetSubscriptionPageIPOBiddingStatus&AjaxVal=1117&CompanyShortName=times%20green%20energy%20ipo',\n",
       " 'https://www.chittorgarh.com/ajax/ajax.asp?AjaxCall=GetSubscriptionPageIPOBiddingStatus&AjaxVal=1116&CompanyShortName=adeshwar%20meditex%20ipo',\n",
       " 'https://www.chittorgarh.com/ajax/ajax.asp?AjaxCall=GetSubscriptionPageIPOBiddingStatus&AjaxVal=1115&CompanyShortName=kims%20ipo',\n",
       " 'https://www.chittorgarh.com/ajax/ajax.asp?AjaxCall=GetSubscriptionPageIPOBiddingStatus&AjaxVal=1114&CompanyShortName=dodla%20dairy%20ipo',\n",
       " 'https://www.chittorgarh.com/ajax/ajax.asp?AjaxCall=GetSubscriptionPageIPOBiddingStatus&AjaxVal=1113&CompanyShortName=navoday%20enterprises%20ipo']"
      ]
     },
     "execution_count": 250,
     "metadata": {},
     "output_type": "execute_result"
    }
   ],
   "source": [
    "subscription_urls = df['subscription_data_url'].tolist()\n",
    "subscription_urls"
   ]
  },
  {
   "cell_type": "code",
   "execution_count": 293,
   "metadata": {},
   "outputs": [],
   "source": [
    "def get_subscription_data(url:str) -> pd.DataFrame():\n",
    "    sub_response = reqs.get(url)\n",
    "    sup_soup = BeautifulSoup(sub_response.content, 'html.parser')\n",
    "    \n",
    "    sub_table = sup_soup.find('table')\n",
    "    sub_thead_tag = sub_table.find('thead')\n",
    "    sub_th_tags = sub_thead_tag.findAll('th')\n",
    "    sub_table_col_names = [x.text.strip() for x in sub_th_tags]\n",
    "\n",
    "    institution_names = list()\n",
    "    subscription_times = list()\n",
    "    \n",
    "    sub_tbody_tag = sub_table.find('tbody')\n",
    "    sub_tr_tags = sub_tbody_tag.findAll('tr')\n",
    "    for tr in sub_tr_tags:\n",
    "        td_tags = tr.findAll('td')\n",
    "        values = [td.text.strip() for td in td_tags]\n",
    "        institution_names.append(values[0])\n",
    "        subscription_times.append(values[1])\n",
    "    sub_dict_for_df = {'0': institution_names, '1': subscription_times}\n",
    "    sub_df = pd.DataFrame(sub_dict_for_df)\n",
    "    sub_df.columns = sub_table_col_names\n",
    "    return sub_df"
   ]
  },
  {
   "cell_type": "code",
   "execution_count": 299,
   "metadata": {},
   "outputs": [
    {
     "name": "stdout",
     "output_type": "stream",
     "text": [
      "https://www.chittorgarh.com/ajax/ajax.asp?AjaxCall=GetSubscriptionPageIPOBiddingStatus&AjaxVal=1117&CompanyShortName=times%20green%20energy%20ipo\n",
      "                  Category Subscription Status\n",
      "0  Qualified Institutional           [.] Times\n",
      "1        Non Institutional          0.56 Times\n",
      "2        Retail Individual          0.77 Times\n",
      "3                 Employee           [.] Times\n",
      "4                   Others           [.] Times\n",
      "5                    Total          0.66 Times\n",
      "https://www.chittorgarh.com/ajax/ajax.asp?AjaxCall=GetSubscriptionPageIPOBiddingStatus&AjaxVal=1116&CompanyShortName=adeshwar%20meditex%20ipo\n",
      "                  Category Subscription Status\n",
      "0  Qualified Institutional           [.] Times\n",
      "1        Non Institutional          1.43 Times\n",
      "2        Retail Individual          0.99 Times\n",
      "3                 Employee           [.] Times\n",
      "4                   Others           [.] Times\n",
      "5                    Total          1.21 Times\n",
      "https://www.chittorgarh.com/ajax/ajax.asp?AjaxCall=GetSubscriptionPageIPOBiddingStatus&AjaxVal=1115&CompanyShortName=kims%20ipo\n",
      "                  Category Subscription Status\n",
      "0  Qualified Institutional          0.14 Times\n",
      "1        Non Institutional          0.02 Times\n",
      "2        Retail Individual          1.00 Times\n",
      "3                 Employee          0.27 Times\n",
      "4                   Others           [.] Times\n",
      "5                    Total          0.27 Times\n",
      "https://www.chittorgarh.com/ajax/ajax.asp?AjaxCall=GetSubscriptionPageIPOBiddingStatus&AjaxVal=1114&CompanyShortName=dodla%20dairy%20ipo\n",
      "                  Category Subscription Status\n",
      "0  Qualified Institutional          0.02 Times\n",
      "1        Non Institutional          0.14 Times\n",
      "2        Retail Individual          2.73 Times\n",
      "3                 Employee           [.] Times\n",
      "4                   Others           [.] Times\n",
      "5                    Total          1.40 Times\n",
      "https://www.chittorgarh.com/ajax/ajax.asp?AjaxCall=GetSubscriptionPageIPOBiddingStatus&AjaxVal=1113&CompanyShortName=navoday%20enterprises%20ipo\n",
      "                  Category Subscription Status\n",
      "0  Qualified Institutional           [.] Times\n",
      "1        Non Institutional          0.27 Times\n",
      "2        Retail Individual          3.08 Times\n",
      "3                 Employee           [.] Times\n",
      "4                   Others           [.] Times\n",
      "5                    Total          1.68 Times\n"
     ]
    }
   ],
   "source": [
    "for url in df['subscription_data_url']:\n",
    "    sub_data = get_subscription_data(url)\n",
    "    print(url)\n",
    "    print(sub_data)"
   ]
  },
  {
   "cell_type": "code",
   "execution_count": null,
   "metadata": {},
   "outputs": [],
   "source": []
  }
 ],
 "metadata": {
  "kernelspec": {
   "display_name": "fun_projects",
   "language": "python",
   "name": "fun_projects"
  },
  "language_info": {
   "codemirror_mode": {
    "name": "ipython",
    "version": 3
   },
   "file_extension": ".py",
   "mimetype": "text/x-python",
   "name": "python",
   "nbconvert_exporter": "python",
   "pygments_lexer": "ipython3",
   "version": "3.8.5"
  }
 },
 "nbformat": 4,
 "nbformat_minor": 4
}
