{
 "cells": [
  {
   "cell_type": "code",
   "execution_count": 27,
   "metadata": {},
   "outputs": [],
   "source": [
    "import requests\n",
    "from bs4 import BeautifulSoup\n",
    "import pandas as pd\n",
    "\n",
    "def make_rest_call(url):\n",
    "    response = requests.get(url)\n",
    "    if response.status_code == 200:\n",
    "        return response.text\n",
    "    else:\n",
    "        return None\n",
    "\n",
    "def parse_html(html):\n",
    "    soup = BeautifulSoup(html, 'html.parser')\n",
    "    return soup\n",
    "\n",
    "def extract_emails(soup):\n",
    "    email_list = []\n",
    "    # Assuming emails are in anchor tags with 'mailto' href\n",
    "    for anchor in soup.find_all('a', href=True):\n",
    "        href = anchor['href']\n",
    "        if href.startswith('mailto:'):\n",
    "            email_list.append(href[len('mailto:'):])\n",
    "    return email_list\n",
    "\n",
    "def create_dataframe(emails):\n",
    "    df = pd.DataFrame(emails, columns=['Email'])\n",
    "    return df\n",
    "\n",
    "def main(url):\n",
    "    html = make_rest_call(url)\n",
    "    if html:\n",
    "        soup = parse_html(html)\n",
    "        emails = extract_emails(soup)\n",
    "        # df = create_dataframe(emails)\n",
    "        # print(\"DataFrame with extracted emails:\")\n",
    "        # print(df)\n",
    "        return emails\n",
    "    else:\n",
    "        print(\"Failed to fetch HTML from the provided URL.\")\n",
    "\n",
    "if __name__ == \"__main__\":\n",
    "    url = 'https://www.stonybrook.edu/commcms/ctsr/People/Staff.php'  # Replace with your URL\n",
    "    main(url)\n"
   ]
  },
  {
   "cell_type": "code",
   "execution_count": 31,
   "metadata": {},
   "outputs": [
    {
     "data": {
      "text/plain": [
       "{'Barbara.Chapman@stonybrook.edu',\n",
       " 'Ben.Levine@stonybrook.edu?subject=',\n",
       " 'Jason.Trelewicz@stonybrook.edu',\n",
       " 'Jeffrey.Heinz@stonybrook.edu',\n",
       " 'Marat.Khairoutdinov@stonybrook.edu',\n",
       " 'Matthew.Reuter@stonybrook.edu',\n",
       " 'Owen.Rambow@stonybrook.edu?subject=',\n",
       " 'Robert.Harrison@stonybrook.edu',\n",
       " 'alan.calder@stonybrook.edu',\n",
       " 'heather.lynch@stonybrook.edu',\n",
       " 'iacs@stonybrook.edu',\n",
       " 'margaret.schedel@stonybrook.edu',\n",
       " 'maria.fernandez-serra@stonybrook.edu',\n",
       " 'rezaul.chowdhury@stonybrook.edu',\n",
       " 'xiangmin.jiao@stonybrook.edu',\n",
       " 'yifan.sun@stonybrook.edu?subject=',\n",
       " 'yongjun.zhang@stonybrook.edu?subject='}"
      ]
     },
     "execution_count": 31,
     "metadata": {},
     "output_type": "execute_result"
    }
   ],
   "source": [
    "# Fetch all the urls and call main fn\n",
    "\n",
    "from bs4 import BeautifulSoup\n",
    "res_text = requests.get('https://iacs.stonybrook.edu/commcms/iacs/people/faculty.php').text\n",
    "soup = bear_soup = BeautifulSoup(res_text, 'html.parser')\n",
    "profile_tags = soup.find_all('a')\n",
    "emails = []\n",
    "for a in profile_tags:\n",
    "    if 'view profile' in a.text.lower():\n",
    "        url = 'https://iacs.stonybrook.edu/'+a['href']\n",
    "        emails = emails + main(url)\n",
    "\n",
    "set(emails)"
   ]
  }
 ],
 "metadata": {
  "kernelspec": {
   "display_name": "deep_learning_venv",
   "language": "python",
   "name": "python3"
  },
  "language_info": {
   "codemirror_mode": {
    "name": "ipython",
    "version": 3
   },
   "file_extension": ".py",
   "mimetype": "text/x-python",
   "name": "python",
   "nbconvert_exporter": "python",
   "pygments_lexer": "ipython3",
   "version": "3.11.7"
  }
 },
 "nbformat": 4,
 "nbformat_minor": 2
}
