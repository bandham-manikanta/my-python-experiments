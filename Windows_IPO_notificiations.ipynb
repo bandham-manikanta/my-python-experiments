{
 "cells": [
  {
   "cell_type": "code",
   "execution_count": 16,
   "id": "wooden-works",
   "metadata": {},
   "outputs": [],
   "source": [
    "def get_data():\n",
    "    import requests as rq\n",
    "    from bs4 import BeautifulSoup\n",
    "\n",
    "    res = rq.get('https://www.chittorgarh.com/ajax/ajax.asp?AjaxCall=GetSubscriptionPageIPOBiddingStatus&AjaxVal=1073&CompanyShortName=RailTel%20IPO')\n",
    "    soup = BeautifulSoup(res.text, 'html.parser')\n",
    "    \n",
    "    divs = soup.findAll('div')\n",
    "    div = divs[0]\n",
    "\n",
    "#     from IPython.core.display import display, HTML\n",
    "#     table_html = HTML(str(div))\n",
    "#     display(table_html)\n",
    "    \n",
    "    table = div.find('table')\n",
    "    tbody = table.find('tbody')\n",
    "    trs = tbody.findAll('tr')\n",
    "    data = ''\n",
    "    for tr in trs:\n",
    "        tds = tr.findAll('td')\n",
    "        temp_data = ': '.join([ x.text for x in tds])\n",
    "        if 'Others' not in temp_data:\n",
    "            data += temp_data\n",
    "            data += '\\n'\n",
    "\n",
    "    return data"
   ]
  },
  {
   "cell_type": "code",
   "execution_count": 17,
   "id": "allied-relation",
   "metadata": {},
   "outputs": [
    {
     "name": "stdout",
     "output_type": "stream",
     "text": [
      "Qualified Institutional: 14.02 Times\n",
      "Non Institutional: 11.32 Times\n",
      "Retail Individual: 14.24 Times\n",
      "Employee: 2.30 Times\n",
      "Total: 13.46 Times\n",
      "\n"
     ]
    }
   ],
   "source": [
    "message = get_data()\n",
    "print(message)"
   ]
  },
  {
   "cell_type": "code",
   "execution_count": 19,
   "id": "imperial-caution",
   "metadata": {},
   "outputs": [
    {
     "ename": "AttributeError",
     "evalue": "'ToastNotifier' object has no attribute 'classAtom'",
     "output_type": "error",
     "traceback": [
      "\u001b[1;31m---------------------------------------------------------------------------\u001b[0m",
      "\u001b[1;31mAttributeError\u001b[0m                            Traceback (most recent call last)",
      "\u001b[1;32m<ipython-input-19-90fe75f0cbf8>\u001b[0m in \u001b[0;36m<module>\u001b[1;34m\u001b[0m\n\u001b[0;32m      8\u001b[0m     \u001b[0mmessage\u001b[0m \u001b[1;33m=\u001b[0m \u001b[0mget_data\u001b[0m\u001b[1;33m(\u001b[0m\u001b[1;33m)\u001b[0m\u001b[1;33m\u001b[0m\u001b[1;33m\u001b[0m\u001b[0m\n\u001b[0;32m      9\u001b[0m \u001b[1;31m#     toast.show_toast('RailTel IPO subscription status', message, duration=0)\u001b[0m\u001b[1;33m\u001b[0m\u001b[1;33m\u001b[0m\u001b[1;33m\u001b[0m\u001b[0m\n\u001b[1;32m---> 10\u001b[1;33m     \u001b[0mtoast\u001b[0m\u001b[1;33m.\u001b[0m\u001b[0mshow_toast\u001b[0m\u001b[1;33m(\u001b[0m\u001b[1;34m'RailTel IPO subscription status'\u001b[0m\u001b[1;33m,\u001b[0m \u001b[0mmessage\u001b[0m\u001b[1;33m,\u001b[0m \u001b[0mduration\u001b[0m\u001b[1;33m=\u001b[0m\u001b[1;36m5\u001b[0m\u001b[1;33m)\u001b[0m\u001b[1;33m\u001b[0m\u001b[1;33m\u001b[0m\u001b[0m\n\u001b[0m\u001b[0;32m     11\u001b[0m \u001b[1;31m#     time.sleep(5)\u001b[0m\u001b[1;33m\u001b[0m\u001b[1;33m\u001b[0m\u001b[1;33m\u001b[0m\u001b[0m\n",
      "\u001b[1;32mc:\\users\\bandham\\image_clf\\lib\\site-packages\\win10toast\\__init__.py\u001b[0m in \u001b[0;36mshow_toast\u001b[1;34m(self, title, msg, icon_path, duration, threaded)\u001b[0m\n\u001b[0;32m    125\u001b[0m         \"\"\"\n\u001b[0;32m    126\u001b[0m         \u001b[1;32mif\u001b[0m \u001b[1;32mnot\u001b[0m \u001b[0mthreaded\u001b[0m\u001b[1;33m:\u001b[0m\u001b[1;33m\u001b[0m\u001b[1;33m\u001b[0m\u001b[0m\n\u001b[1;32m--> 127\u001b[1;33m             \u001b[0mself\u001b[0m\u001b[1;33m.\u001b[0m\u001b[0m_show_toast\u001b[0m\u001b[1;33m(\u001b[0m\u001b[0mtitle\u001b[0m\u001b[1;33m,\u001b[0m \u001b[0mmsg\u001b[0m\u001b[1;33m,\u001b[0m \u001b[0micon_path\u001b[0m\u001b[1;33m,\u001b[0m \u001b[0mduration\u001b[0m\u001b[1;33m)\u001b[0m\u001b[1;33m\u001b[0m\u001b[1;33m\u001b[0m\u001b[0m\n\u001b[0m\u001b[0;32m    128\u001b[0m         \u001b[1;32melse\u001b[0m\u001b[1;33m:\u001b[0m\u001b[1;33m\u001b[0m\u001b[1;33m\u001b[0m\u001b[0m\n\u001b[0;32m    129\u001b[0m             \u001b[1;32mif\u001b[0m \u001b[0mself\u001b[0m\u001b[1;33m.\u001b[0m\u001b[0mnotification_active\u001b[0m\u001b[1;33m(\u001b[0m\u001b[1;33m)\u001b[0m\u001b[1;33m:\u001b[0m\u001b[1;33m\u001b[0m\u001b[1;33m\u001b[0m\u001b[0m\n",
      "\u001b[1;32mc:\\users\\bandham\\image_clf\\lib\\site-packages\\win10toast\\__init__.py\u001b[0m in \u001b[0;36m_show_toast\u001b[1;34m(self, title, msg, icon_path, duration)\u001b[0m\n\u001b[0;32m     81\u001b[0m             \u001b[1;32mpass\u001b[0m \u001b[1;31m#not sure of this\u001b[0m\u001b[1;33m\u001b[0m\u001b[1;33m\u001b[0m\u001b[0m\n\u001b[0;32m     82\u001b[0m         \u001b[0mstyle\u001b[0m \u001b[1;33m=\u001b[0m \u001b[0mWS_OVERLAPPED\u001b[0m \u001b[1;33m|\u001b[0m \u001b[0mWS_SYSMENU\u001b[0m\u001b[1;33m\u001b[0m\u001b[1;33m\u001b[0m\u001b[0m\n\u001b[1;32m---> 83\u001b[1;33m         self.hwnd = CreateWindow(self.classAtom, \"Taskbar\", style,\n\u001b[0m\u001b[0;32m     84\u001b[0m                                  \u001b[1;36m0\u001b[0m\u001b[1;33m,\u001b[0m \u001b[1;36m0\u001b[0m\u001b[1;33m,\u001b[0m \u001b[0mCW_USEDEFAULT\u001b[0m\u001b[1;33m,\u001b[0m\u001b[1;33m\u001b[0m\u001b[1;33m\u001b[0m\u001b[0m\n\u001b[0;32m     85\u001b[0m                                  \u001b[0mCW_USEDEFAULT\u001b[0m\u001b[1;33m,\u001b[0m\u001b[1;33m\u001b[0m\u001b[1;33m\u001b[0m\u001b[0m\n",
      "\u001b[1;31mAttributeError\u001b[0m: 'ToastNotifier' object has no attribute 'classAtom'"
     ]
    }
   ],
   "source": [
    "from win10toast import ToastNotifier\n",
    "\n",
    "toast = ToastNotifier()\n",
    "\n",
    "import time\n",
    "\n",
    "for i in range(0, 100):\n",
    "    message = get_data()\n",
    "    toast.show_toast('RailTel IPO subscription status', message, duration=0)\n",
    "    toast.show_toast('RailTel IPO subscription status', message, duration=5)\n",
    "#     time.sleep(5)"
   ]
  },
  {
   "cell_type": "code",
   "execution_count": null,
   "id": "capital-people",
   "metadata": {},
   "outputs": [],
   "source": []
  }
 ],
 "metadata": {
  "kernelspec": {
   "display_name": "Python 3",
   "language": "python",
   "name": "python3"
  },
  "language_info": {
   "codemirror_mode": {
    "name": "ipython",
    "version": 3
   },
   "file_extension": ".py",
   "mimetype": "text/x-python",
   "name": "python",
   "nbconvert_exporter": "python",
   "pygments_lexer": "ipython3",
   "version": "3.9.1"
  }
 },
 "nbformat": 4,
 "nbformat_minor": 5
}
