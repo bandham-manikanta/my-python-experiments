{
 "cells": [
  {
   "cell_type": "code",
   "execution_count": null,
   "metadata": {},
   "outputs": [
    {
     "data": {
      "text/plain": [
       "'Updated display name with Manikanta Bandham'"
      ]
     },
     "metadata": {},
     "output_type": "display_data"
    },
    {
     "name": "stdout",
     "output_type": "stream",
     "text": [
      "exception occurred\n",
      "exception occurred\n"
     ]
    }
   ],
   "source": [
    "from selenium import webdriver as wd\n",
    "import time\n",
    "from selenium.webdriver.firefox.options import Options\n",
    "import random\n",
    "from selenium.common.exceptions import NoSuchElementException\n",
    "\n",
    "email = None\n",
    "pswrd = None\n",
    "with open('cred.txt', 'r') as file:\n",
    "    email = file.readline()\n",
    "    pswrd = file.readline()\n",
    "\n",
    "result = 'Success'\n",
    "options = Options()\n",
    "options.set_preference(\"dom.push.enabled\", False)\n",
    "options.set_preference(\"dom.webnotifications.enabled\", False)\n",
    "driver = wd.Firefox(options=options)\n",
    "driver.get('https://www.naukri.com/')\n",
    "main_window = driver.window_handles[0]\n",
    "driver.switch_to.window(main_window)\n",
    "login_btn = driver.find_element_by_id('login_Layer')\n",
    "login_btn.click()\n",
    "userName = driver.find_element_by_id('eLoginNew')\n",
    "userName.send_keys(email)\n",
    "psswrd = driver.find_element_by_id('pLogin')\n",
    "psswrd.send_keys(pswrd)\n",
    "submit_btn = driver.find_element_by_xpath(\"//button[contains(text(),'Login')]\")\n",
    "submit_btn.click()\n",
    "\n",
    "try:\n",
    "    time.sleep(5)\n",
    "    update_profile_btn = driver.find_element_by_link_text('UPDATE PROFILE')\n",
    "    update_profile_btn.click()\n",
    "    time.sleep(5)\n",
    "except Exception as e:\n",
    "    result = 'Failed'\n",
    "    print('Unable to locate \"UPDATE PROFILE\" button.')\n",
    "    driver.quit()\n",
    "\n",
    "titles = ['Bandham Manikanta', 'Manikanta Bandham']\n",
    "\n",
    "for min in range(5):\n",
    "    try:\n",
    "        time.sleep(1)\n",
    "        edit_icon = driver.find_element_by_xpath(\"//em[@class='icon edit']\")\n",
    "        edit_icon.click()\n",
    "        time.sleep(1)\n",
    "        public_name_field = driver.find_element_by_id('name')\n",
    "        index = random.randrange(0,2)\n",
    "        public_name_field.clear()\n",
    "        time.sleep(1)\n",
    "        public_name_field.send_keys(titles[index])\n",
    "        time.sleep(1)\n",
    "        save_btn = driver.find_element_by_id('saveBasicDetailsBtn')\n",
    "        save_btn.click()\n",
    "        display('Updated display name with {}'.format(titles[index]) )\n",
    "        time.sleep(10)\n",
    "    except Exception as e:\n",
    "        result = 'Failed'\n",
    "        print('exception occurred')\n",
    "        pass\n",
    "    finally:\n",
    "        driver.quit()\n",
    "\n",
    "print(result)"
   ]
  },
  {
   "cell_type": "code",
   "execution_count": null,
   "metadata": {},
   "outputs": [],
   "source": []
  }
 ],
 "metadata": {
  "kernelspec": {
   "display_name": "Python 3",
   "language": "python",
   "name": "python3"
  },
  "language_info": {
   "codemirror_mode": {
    "name": "ipython",
    "version": 3
   },
   "file_extension": ".py",
   "mimetype": "text/x-python",
   "name": "python",
   "nbconvert_exporter": "python",
   "pygments_lexer": "ipython3",
   "version": "3.7.7"
  }
 },
 "nbformat": 4,
 "nbformat_minor": 4
}
