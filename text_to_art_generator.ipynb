{
 "cells": [
  {
   "cell_type": "code",
   "execution_count": 1,
   "metadata": {},
   "outputs": [],
   "source": [
    "! pip install pyfiglet --quiet"
   ]
  },
  {
   "cell_type": "code",
   "execution_count": 15,
   "metadata": {},
   "outputs": [
    {
     "name": "stdout",
     "output_type": "stream",
     "text": [
      "    _____               __  __                __   ____      __\n",
      "   /  _( )____ ___     / /_/ /_  ____ _____  / /__/ __/_  __/ /\n",
      "   / / |// __ `__ \\   / __/ __ \\/ __ `/ __ \\/ //_/ /_/ / / / / \n",
      " _/ /   / / / / / /  / /_/ / / / /_/ / / / / ,< / __/ /_/ / /  \n",
      "/___/  /_/ /_/ /_/   \\__/_/ /_/\\__,_/_/ /_/_/|_/_/  \\__,_/_/   \n",
      "                                                               \n",
      "    ____                       __          __     ____   __                    \n",
      "   / __/___  _____   _      __/ /_  ____ _/ /_   /  _/  / /_  ____ __   _____  \n",
      "  / /_/ __ \\/ ___/  | | /| / / __ \\/ __ `/ __/   / /   / __ \\/ __ `/ | / / _ \\ \n",
      " / __/ /_/ / /      | |/ |/ / / / / /_/ / /_   _/ /   / / / / /_/ /| |/ /  __/ \n",
      "/_/  \\____/_/       |__/|__/_/ /_/\\__,_/\\__/  /___/  /_/ /_/\\__,_/ |___/\\___(_)\n",
      "                                                                               \n",
      "\n"
     ]
    }
   ],
   "source": [
    "import pyfiglet\n",
    "\n",
    "def print_ascii_art(word, font='slant'):  # you can change 'slant' to any available font\n",
    "    ascii_art = pyfiglet.figlet_format(word, font=font)\n",
    "    print(ascii_art)\n",
    "print_ascii_art(\"I'm thankful for what I have.\")"
   ]
  },
  {
   "cell_type": "code",
   "execution_count": null,
   "metadata": {},
   "outputs": [],
   "source": []
  }
 ],
 "metadata": {
  "kernelspec": {
   "display_name": "python_general_venv",
   "language": "python",
   "name": "python3"
  },
  "language_info": {
   "codemirror_mode": {
    "name": "ipython",
    "version": 3
   },
   "file_extension": ".py",
   "mimetype": "text/x-python",
   "name": "python",
   "nbconvert_exporter": "python",
   "pygments_lexer": "ipython3",
   "version": "3.12.2"
  }
 },
 "nbformat": 4,
 "nbformat_minor": 2
}
